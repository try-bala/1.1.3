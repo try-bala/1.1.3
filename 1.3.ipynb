{
 "cells": [
  {
   "cell_type": "code",
   "execution_count": 1,
   "metadata": {},
   "outputs": [
    {
     "name": "stdout",
     "output_type": "stream",
     "text": [
      "Enter first name - Rajesh\n",
      "Enter last name - Kannan\n",
      "hsejaR nannaK\n"
     ]
    }
   ],
   "source": [
    "# Accept the user's first and last name. Print them in reverse order with a space between first name and last name.\n",
    "\n",
    "\n",
    "FirstName = input('Enter first name - ')\n",
    "LastName = input('Enter last name - ')\n",
    "\n",
    "FirstName = list(FirstName)\n",
    "LastName = list(LastName)\n",
    "revFirstName = []\n",
    "revLastName = []\n",
    "\n",
    "i = len(FirstName)\n",
    "for j in range(i):\n",
    "    i -= 1\n",
    "    revFirstName.append(FirstName[i])\n",
    "\n",
    "k = len(LastName) - 1\n",
    "while (k >= 0):\n",
    "    revLastName.append(LastName[k])\n",
    "    k -= 1\n",
    "\n",
    "print (''.join(revFirstName) + ' ' + ''.join(revLastName))"
   ]
  }
 ],
 "metadata": {
  "kernelspec": {
   "display_name": "Python 3",
   "language": "python",
   "name": "python3"
  },
  "language_info": {
   "codemirror_mode": {
    "name": "ipython",
    "version": 3
   },
   "file_extension": ".py",
   "mimetype": "text/x-python",
   "name": "python",
   "nbconvert_exporter": "python",
   "pygments_lexer": "ipython3",
   "version": "3.6.5"
  }
 },
 "nbformat": 4,
 "nbformat_minor": 2
}
